{
 "cells": [
  {
   "cell_type": "code",
   "id": "initial_id",
   "metadata": {
    "collapsed": true,
    "ExecuteTime": {
     "end_time": "2025-09-01T07:25:41.234111Z",
     "start_time": "2025-09-01T07:25:40.534271Z"
    }
   },
   "source": [
    "from openvino import Core\n",
    "\n",
    "core = Core()\n",
    "available_devices = core.available_devices\n",
    "print(\"Available devices:\", available_devices)\n",
    "print(core)"
   ],
   "outputs": [
    {
     "name": "stdout",
     "output_type": "stream",
     "text": [
      "Available devices: ['CPU']\n",
      "<Core: available plugins[CPU]>\n"
     ]
    }
   ],
   "execution_count": 3
  },
  {
   "metadata": {
    "ExecuteTime": {
     "end_time": "2025-09-02T12:56:55.945796Z",
     "start_time": "2025-09-02T12:56:55.942404Z"
    }
   },
   "cell_type": "code",
   "source": "print(1+13)",
   "id": "e0263f2bafb300ca",
   "outputs": [
    {
     "name": "stdout",
     "output_type": "stream",
     "text": [
      "14\n"
     ]
    }
   ],
   "execution_count": 1
  },
  {
   "metadata": {
    "ExecuteTime": {
     "end_time": "2025-09-02T13:26:21.558930Z",
     "start_time": "2025-09-02T13:26:21.540937Z"
    }
   },
   "cell_type": "code",
   "source": [
    "from google import genai\n",
    "model = genai.GenerativeModel('gemini-2.0-flash')\n",
    "chat_session = model.start_chat(history=[]) #ChatSession 객체 반환\n",
    "user_queries = [\"인공지능에 대해 한 문장으로 짧게 설명하세요.\", \"의식이 있는지 한 문장으로 답하세요.\"]\n",
    "for user_query in user_queries:\n",
    "    print(f'[사용자]: {user_query}')\n",
    "    response = chat_session.send_message(user_query)\n",
    "    print(f'[모델]: {response.text}')"
   ],
   "id": "aa1c60989ee536b0",
   "outputs": [
    {
     "ename": "AttributeError",
     "evalue": "module 'google.genai' has no attribute 'GenerativeModel'",
     "output_type": "error",
     "traceback": [
      "\u001B[31m---------------------------------------------------------------------------\u001B[39m",
      "\u001B[31mAttributeError\u001B[39m                            Traceback (most recent call last)",
      "\u001B[36mCell\u001B[39m\u001B[36m \u001B[39m\u001B[32mIn[9]\u001B[39m\u001B[32m, line 2\u001B[39m\n\u001B[32m      1\u001B[39m \u001B[38;5;28;01mfrom\u001B[39;00m\u001B[38;5;250m \u001B[39m\u001B[34;01mgoogle\u001B[39;00m\u001B[38;5;250m \u001B[39m\u001B[38;5;28;01mimport\u001B[39;00m genai\n\u001B[32m----> \u001B[39m\u001B[32m2\u001B[39m model = \u001B[43mgenai\u001B[49m\u001B[43m.\u001B[49m\u001B[43mGenerativeModel\u001B[49m(\u001B[33m'\u001B[39m\u001B[33mgemini-2.0-flash\u001B[39m\u001B[33m'\u001B[39m)\n\u001B[32m      3\u001B[39m chat_session = model.start_chat(history=[]) \u001B[38;5;66;03m#ChatSession 객체 반환\u001B[39;00m\n\u001B[32m      4\u001B[39m user_queries = [\u001B[33m\"\u001B[39m\u001B[33m인공지능에 대해 한 문장으로 짧게 설명하세요.\u001B[39m\u001B[33m\"\u001B[39m, \u001B[33m\"\u001B[39m\u001B[33m의식이 있는지 한 문장으로 답하세요.\u001B[39m\u001B[33m\"\u001B[39m]\n",
      "\u001B[31mAttributeError\u001B[39m: module 'google.genai' has no attribute 'GenerativeModel'"
     ]
    }
   ],
   "execution_count": 9
  }
 ],
 "metadata": {
  "kernelspec": {
   "display_name": "Python 3",
   "language": "python",
   "name": "python3"
  },
  "language_info": {
   "codemirror_mode": {
    "name": "ipython",
    "version": 2
   },
   "file_extension": ".py",
   "mimetype": "text/x-python",
   "name": "python",
   "nbconvert_exporter": "python",
   "pygments_lexer": "ipython2",
   "version": "2.7.6"
  }
 },
 "nbformat": 4,
 "nbformat_minor": 5
}
